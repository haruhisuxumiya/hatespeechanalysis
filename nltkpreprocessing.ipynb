{
 "cells": [
  {
   "cell_type": "markdown",
   "metadata": {},
   "source": [
    "# Twitter Sentiment Analysis [Natural Language Processing (NLP)]"
   ]
  },
  {
   "cell_type": "code",
   "execution_count": 1,
   "metadata": {},
   "outputs": [],
   "source": [
    "#Sentiment Analysis is also referred as Opinion Mining. It’s mostly used in social media and customer reviews data.\n",
    "#In this article, we will use the NLTK’s twitter_samples corpus as our labeled training data. \n",
    "#The twitter_samples corpus contains 2K movie reviews with sentiment polarity classification.\n",
    "#The twitter_samples corpus contains 3 files.\n",
    "#1) negative_tweets.json: contains 5k negative tweets\n",
    "#2) positive_tweets.json: contains 5k positive tweets\n",
    "#3) tweets.20150430-223406.json: contains 20k posi tive and negative tweets\"\"\""
   ]
  },
  {
   "cell_type": "code",
   "execution_count": 2,
   "metadata": {},
   "outputs": [
    {
     "name": "stdout",
     "output_type": "stream",
     "text": [
      "[nltk_data] Downloading package twitter_samples to\n",
      "[nltk_data]     C:\\Users\\HP\\AppData\\Roaming\\nltk_data...\n",
      "[nltk_data]   Package twitter_samples is already up-to-date!\n",
      "['negative_tweets.json', 'positive_tweets.json', 'tweets.20150430-223406.json']\n",
      "5000\n",
      "5000\n",
      "20000\n",
      "#FollowFriday @France_Inte @PKuchly57 @Milipol_Paris for being top engaged members in my community this week :)\n",
      "@Lamb2ja Hey James! How odd :/ Please call our Contact Centre on 02392441234 and we will be able to assist you :) Many thanks!\n",
      "@DespiteOfficial we had a listen last night :) As You Bleed is an amazing track. When are you in Scotland?!\n",
      "@97sides CONGRATS :)\n",
      "yeaaaah yippppy!!!  my accnt verified rqst has succeed got a blue tick mark on my fb profile :) in 15 days\n"
     ]
    }
   ],
   "source": [
    "import nltk\n",
    "nltk.download('twitter_samples')\n",
    "from nltk.corpus import twitter_samples\n",
    "print (twitter_samples.fileids())\n",
    "\n",
    "pos_tweets = twitter_samples.strings('positive_tweets.json')\n",
    "print (len(pos_tweets)) # Output: 5000\n",
    "neg_tweets = twitter_samples.strings('negative_tweets.json')\n",
    "print (len(neg_tweets)) # Output: 5000\n",
    "all_tweets = twitter_samples.strings('tweets.20150430-223406.json')\n",
    "print (len(all_tweets)) # Output: 20000\n",
    "for tweet in pos_tweets[:5]:\n",
    " print (tweet)"
   ]
  },
  {
   "cell_type": "markdown",
   "metadata": {},
   "source": [
    "# Tokenize Tweets"
   ]
  },
  {
   "cell_type": "code",
   "execution_count": 3,
   "metadata": {},
   "outputs": [],
   "source": [
    "#NLTK has a TweetTokenizer module that does a good job in tokenizing (splitting text into a list of words) tweets.\n",
    "#Three different parameters can be passed while calling the TweetTokenizer class. They are:\n",
    "#preserve_case: if False then it converts tweet to lowercase and vice-versa.\n",
    "#strip_handles: if True then it removes twitter handles from the tweet and vice-versa.\n",
    "#reduce_len: if True then it reduces the length of words in the tweet like hurrayyyy, yipppiieeee,etc. and vice-versa."
   ]
  },
  {
   "cell_type": "code",
   "execution_count": 4,
   "metadata": {},
   "outputs": [
    {
     "name": "stdout",
     "output_type": "stream",
     "text": [
      "['#followfriday', 'for', 'being', 'top', 'engaged', 'members', 'in', 'my', 'community', 'this', 'week', ':)']\n",
      "['hey', 'james', '!', 'how', 'odd', ':/', 'please', 'call', 'our', 'contact', 'centre', 'on', '02392441234', 'and', 'we', 'will', 'be', 'able', 'to', 'assist', 'you', ':)', 'many', 'thanks', '!']\n",
      "['we', 'had', 'a', 'listen', 'last', 'night', ':)', 'as', 'you', 'bleed', 'is', 'an', 'amazing', 'track', '.', 'when', 'are', 'you', 'in', 'scotland', '?', '!']\n",
      "['congrats', ':)']\n",
      "['yeaaah', 'yipppy', '!', '!', '!', 'my', 'accnt', 'verified', 'rqst', 'has', 'succeed', 'got', 'a', 'blue', 'tick', 'mark', 'on', 'my', 'fb', 'profile', ':)', 'in', '15', 'days']\n"
     ]
    }
   ],
   "source": [
    "from nltk.tokenize import TweetTokenizer\n",
    "tweet_tokenizer = TweetTokenizer(preserve_case=False, strip_handles=True, reduce_len=True)\n",
    "for tweet in pos_tweets[:5]:\n",
    "   print (tweet_tokenizer.tokenize(tweet))"
   ]
  },
  {
   "cell_type": "markdown",
   "metadata": {},
   "source": [
    "# Cleaning Tweet"
   ]
  },
  {
   "cell_type": "code",
   "execution_count": 5,
   "metadata": {},
   "outputs": [],
   "source": [
    "#define a function named clean_tweets which does following...\n",
    "#– Remove stock market tickers like $GE\n",
    "#– Remove retweet text “RT”\n",
    "#– Remove hyperlinks\n",
    "#– Remove hashtags ( only the hashtag # and not the word)\n",
    "#– Remove stop words like a, and, the, is, are, etc.\n",
    "#– Remove emoticons like :), :D, :(, :-), etc.\n",
    "#– Remove punctuation like full-stop, comm a, exclamation sign, etc.\n",
    "#– Convert words to Stem/Base words using Porter Stemming Algori thm. E.g. words like ‘working’,\n",
    "#‘works’, and ‘worked’ will be converted to their base/stem word “work”.\"\"\""
   ]
  },
  {
   "cell_type": "code",
   "execution_count": 6,
   "metadata": {},
   "outputs": [
    {
     "name": "stdout",
     "output_type": "stream",
     "text": [
      "[nltk_data] Downloading package stopwords to\n",
      "[nltk_data]     C:\\Users\\HP\\AppData\\Roaming\\nltk_data...\n",
      "[nltk_data]   Package stopwords is already up-to-date!\n",
      "['hello', 'great', 'day', ':)', 'good', 'morn']\n",
      "@BhaktisBanter @PallaviRuhail This one is irresistible :)\n",
      "#FlipkartFashionFriday http://t.co/EbZ0L2VENM\n",
      "['one', 'irresist', ':)', 'flipkartfashionfriday']\n"
     ]
    }
   ],
   "source": [
    "import nltk\n",
    "nltk.download(\"stopwords\")\n",
    "import string\n",
    "import re\n",
    "from nltk.corpus import stopwords\n",
    "stopwords_english = stopwords.words('english')\n",
    "from nltk.stem import PorterStemmer\n",
    "stemmer = PorterStemmer()\n",
    "from nltk.tokenize import TweetTokenizer\n",
    "\n",
    "\n",
    "def clean_tweets(tweet):\n",
    "# remove stock market tickers like $GE\n",
    "    tweet = re.sub(r'\\$\\w*', '', tweet)\n",
    "    \n",
    "# remove old style retweet text \"RT\"\n",
    "    tweet = re.sub(r'^RT[\\s]+', '', tweet)\n",
    "    \n",
    "# remove hyperlinks\n",
    "    tweet = re.sub(r'https?:\\/\\/.*[\\r\\n]*', '', tweet)\n",
    "    \n",
    "# remove hashtags\n",
    "# only removing the hash # sign from the word\n",
    "    tweet = re.sub(r'#', '', tweet)\n",
    "    \n",
    "# tokenize tweets\n",
    "    tokenizer = TweetTokenizer(preserve_case=False, strip_handles=True, reduce_len=True)\n",
    "    tweet_tokens = tokenizer.tokenize(tweet)\n",
    "    \n",
    "    tweets_clean = []\n",
    "    for word in tweet_tokens:\n",
    "        if (word not in stopwords_english and # remove stopwords\n",
    "                 #word not in emoticons and # remove emoticons\n",
    "                 word not in string.punctuation): # remove punctuation\n",
    "#tweets_clean.append(word)\n",
    "            stem_word = stemmer.stem(word) # stemming word\n",
    "            tweets_clean.append(stem_word)\n",
    "    return tweets_clean\n",
    "\n",
    "\n",
    "custom_tweet = \"RT @Twitter @chapagain Hello There! Have a great day. :) #good #morning http://chapagain.com.np\"\n",
    "# print cleaned tweet\n",
    "print (clean_tweets(custom_tweet))\n",
    "print (pos_tweets[5])\n",
    "print (clean_tweets(pos_tweets[5]))\n"
   ]
  },
  {
   "cell_type": "markdown",
   "metadata": {},
   "source": [
    "# Feature Extraction"
   ]
  },
  {
   "cell_type": "code",
   "execution_count": 7,
   "metadata": {},
   "outputs": [],
   "source": [
    "#We define a simple bag_of_words function that extracts unigram features from the tweets."
   ]
  },
  {
   "cell_type": "code",
   "execution_count": 8,
   "metadata": {},
   "outputs": [
    {
     "name": "stdout",
     "output_type": "stream",
     "text": [
      "{'hello': True, 'great': True, 'day': True, ':)': True, 'good': True, 'morn': True}\n",
      "5000 5000\n"
     ]
    }
   ],
   "source": [
    "# feature extractor function\n",
    "def bag_of_words(tweet):\n",
    "    words = clean_tweets(tweet)\n",
    "    words_dictionary = dict([word, True] for word in words)\n",
    "    return words_dictionary\n",
    "custom_tweet = \"RT @Twitter @chapagain Hello There! Have a great day. :) #good #morning http://chapagain.com.np\"\n",
    "print (bag_of_words(custom_tweet))\n",
    "\n",
    "# positive tweets feature set\n",
    "pos_tweets_set = []\n",
    "for tweet in pos_tweets:\n",
    "    pos_tweets_set.append((bag_of_words(tweet), 'pos'))\n",
    "    \n",
    "# negative tweets feature set\n",
    "neg_tweets_set = []\n",
    "for tweet in neg_tweets:\n",
    "    neg_tweets_set.append((bag_of_words(tweet), 'neg'))\n",
    "print (len(pos_tweets_set), len(neg_tweets_set)) # Output: (5000, 5000)"
   ]
  },
  {
   "cell_type": "markdown",
   "metadata": {},
   "source": [
    "# Create Train and Test Set"
   ]
  },
  {
   "cell_type": "code",
   "execution_count": 9,
   "metadata": {},
   "outputs": [],
   "source": [
    "#There are 5000 positive tweets set and 5000 negative tweets set. We take 20% (i.e. 1000) of positive\n",
    "#tweets and 20% (i.e. 1000) of negative tweets as the test set. The remaining negative and positive\n",
    "#tweets will be taken as the training set."
   ]
  },
  {
   "cell_type": "code",
   "execution_count": 10,
   "metadata": {},
   "outputs": [
    {
     "name": "stdout",
     "output_type": "stream",
     "text": [
      "2000 8000\n"
     ]
    }
   ],
   "source": [
    "# radomize pos_reviews_set and neg_reviews_set\n",
    "# doing so will output different accuracy result everytime we run the program\n",
    "from random import shuffle\n",
    "shuffle(pos_tweets_set)\n",
    "shuffle(neg_tweets_set)\n",
    "test_set = pos_tweets_set[:1000] + neg_tweets_set[:1000]\n",
    "train_set = pos_tweets_set[1000:] + neg_tweets_set[1000:]\n",
    "print(len(test_set), len(train_set)) # Output: (2000, 8000)"
   ]
  },
  {
   "cell_type": "markdown",
   "metadata": {},
   "source": [
    "# Training Classifier and Calculating Accuracy"
   ]
  },
  {
   "cell_type": "code",
   "execution_count": 11,
   "metadata": {},
   "outputs": [],
   "source": [
    "#We train Naive Bayes Classifier using the training set and calculate the classification accuracy of the\n",
    "#trained classifier using the test set."
   ]
  },
  {
   "cell_type": "code",
   "execution_count": 12,
   "metadata": {},
   "outputs": [
    {
     "name": "stdout",
     "output_type": "stream",
     "text": [
      "0.9915\n",
      "Most Informative Features\n",
      "                      :) = True              pos : neg    =   1101.8 : 1.0\n",
      "                     via = True              pos : neg    =     41.0 : 1.0\n",
      "                   arriv = True              pos : neg    =     23.8 : 1.0\n",
      "                  commun = True              pos : neg    =     19.0 : 1.0\n",
      "                     x15 = True              neg : pos    =     18.3 : 1.0\n",
      "                     sad = True              neg : pos    =     18.1 : 1.0\n",
      "                    damn = True              neg : pos    =     17.0 : 1.0\n",
      "               goodnight = True              pos : neg    =     15.7 : 1.0\n",
      "                     ugh = True              neg : pos    =     14.3 : 1.0\n",
      "                opportun = True              pos : neg    =     14.3 : 1.0\n",
      "None\n"
     ]
    }
   ],
   "source": [
    "from nltk import classify\n",
    "from nltk import NaiveBayesClassifier\n",
    "classifier = NaiveBayesClassifier.train(train_set)\n",
    "accuracy = classify.accuracy(classifier, test_set)\n",
    "print(accuracy) # Output: 0.765\n",
    "print (classifier.show_most_informative_features(10))"
   ]
  },
  {
   "cell_type": "markdown",
   "metadata": {},
   "source": [
    "# Testing Classifier with Custom Tweet"
   ]
  },
  {
   "cell_type": "code",
   "execution_count": 13,
   "metadata": {},
   "outputs": [],
   "source": [
    "#We provide custom tweet and check the classification output of the trained classifier.\n",
    "#The classifier correctly predicts both negative and positive tweets provided."
   ]
  },
  {
   "cell_type": "code",
   "execution_count": 14,
   "metadata": {},
   "outputs": [
    {
     "name": "stdout",
     "output_type": "stream",
     "text": [
      "neg\n",
      "<ProbDist with 2 samples>\n",
      "neg\n",
      "0.9312784824258974\n",
      "0.06872151757410054\n",
      "pos\n",
      "<ProbDist with 2 samples>\n",
      "pos\n",
      "0.001076669004200699\n",
      "0.9989233309958002\n"
     ]
    }
   ],
   "source": [
    "custom_tweet = \"I hated the film. It was a disaster. Poor direction, bad acting.\"\n",
    "custom_tweet_set = bag_of_words(custom_tweet)\n",
    "print (classifier.classify(custom_tweet_set)) # Output: neg\n",
    "# Negative tweet correctly classified as negative\n",
    "# probability result\n",
    "prob_result = classifier.prob_classify(custom_tweet_set)\n",
    "print (prob_result) # Output: <ProbDist with 2 samples>\n",
    "print (prob_result.max()) # Output: neg\n",
    "print (prob_result.prob(\"neg\")) # Output: 0.941844352481\n",
    "print (prob_result.prob(\"pos\")) # Output: 0.0581556475194\n",
    "\n",
    "custom_tweet = \"It was a wonderful and amazing movie. I loved it. Best direction, good acting.\"\n",
    "custom_tweet_set = bag_of_words(custom_tweet)\n",
    "print (classifier.classify(custom_tweet_set)) # Output: pos\n",
    "# Positive tweet correctly classified as positive\n",
    "# probability result\n",
    "prob_result = classifier.prob_classify(custom_tweet_set)\n",
    "print (prob_result) # Output: <ProbDist with 2 samples>\n",
    "print (prob_result.max()) # Output: pos\n",
    "print (prob_result.prob(\"neg\")) # Output: 0.00131055449755\n",
    "print (prob_result.prob(\"pos\")) # Output: 0.998689445502"
   ]
  },
  {
   "cell_type": "markdown",
   "metadata": {},
   "source": [
    "# Precision, Recall & F1-Score"
   ]
  },
  {
   "cell_type": "code",
   "execution_count": 15,
   "metadata": {},
   "outputs": [
    {
     "name": "stdout",
     "output_type": "stream",
     "text": [
      "pos precision: None\n",
      "pos recall: 0.0\n",
      "pos F-measure: None\n",
      "neg precision: 1.0\n",
      "neg recall: 0.001\n",
      "neg F-measure: 0.001998001998001998\n"
     ]
    }
   ],
   "source": [
    "from collections import defaultdict\n",
    "actual_set = defaultdict(set)\n",
    "predicted_set = defaultdict(set)\n",
    "actual_set_cm = []\n",
    "predicted_set_cm = []\n",
    "for index, (feature, actual_label) in enumerate(test_set):\n",
    "    actual_set[actual_label].add(index)\n",
    "    actual_set_cm.append(actual_label)\n",
    "predicted_label = classifier.classify(feature)\n",
    "predicted_set[predicted_label].add(index)\n",
    "predicted_set_cm.append(predicted_label)\n",
    "from nltk.metrics import precision, recall, f_measure, ConfusionMatrix\n",
    "print(\"pos precision:\",precision(actual_set['pos'], predicted_set['pos'])) \n",
    "print(\"pos recall:\",recall(actual_set['pos'], predicted_set['pos'])) \n",
    "print(\"pos F-measure:\", f_measure(actual_set['pos'], predicted_set['pos']))\n",
    "print(\"neg precision:\", precision(actual_set['neg'], predicted_set['neg'])) \n",
    "print(\"neg recall:\", recall(actual_set['neg'], predicted_set['neg']))\n",
    "print(\"neg F-measure:\", f_measure(actual_set['neg'], predicted_set['neg']))\n"
   ]
  },
  {
   "cell_type": "markdown",
   "metadata": {},
   "source": [
    "# Confusion Matrix"
   ]
  },
  {
   "cell_type": "code",
   "execution_count": 16,
   "metadata": {},
   "outputs": [
    {
     "data": {
      "text/plain": [
       "\"Confusion Matrix is a table that is used to describe the performance of the classifier.\\nConfusion Matrix is represented in the following format:\\n    '''\\n| Predicted NO | Predicted YES |\\n-----------+---------------------+---------------------+\\nActual NO | True Negative (TN) | False Positive (FP) |\\nActual YES | False Negative (FN) | True Positive (TP) |\\n-----------+---------------------+---------------------+\\n'''\\nThe following output of the confusion matrix shows the following performance of our trained classifier:\\n– 761 negative tweets were correctly classified as negative (TN)\\n– 239 negative tweets were incorrectly classified as positive (FP )\\n– 231 positive tweets were incorrectly classified as negative (FN)\\n– 769 positive tweets were correctly classified as positive (TP)\""
      ]
     },
     "execution_count": 16,
     "metadata": {},
     "output_type": "execute_result"
    }
   ],
   "source": [
    "\"\"\"Confusion Matrix is a table that is used to describe the performance of the classifier.\n",
    "Confusion Matrix is represented in the following format:\n",
    "    '''\n",
    "| Predicted NO | Predicted YES |\n",
    "-----------+---------------------+---------------------+\n",
    "Actual NO | True Negative (TN) | False Positive (FP) |\n",
    "Actual YES | False Negative (FN) | True Positive (TP) |\n",
    "-----------+---------------------+---------------------+\n",
    "'''\n",
    "The following output of the confusion matrix shows the following performance of our trained classifier:\n",
    "– 761 negative tweets were correctly classified as negative (TN)\n",
    "– 239 negative tweets were incorrectly classified as positive (FP )\n",
    "– 231 positive tweets were incorrectly classified as negative (FN)\n",
    "– 769 positive tweets were correctly classified as positive (TP)\"\"\"\n",
    "    "
   ]
  },
  {
   "cell_type": "code",
   "execution_count": 17,
   "metadata": {},
   "outputs": [
    {
     "ename": "ValueError",
     "evalue": "Lists must have the same length.",
     "output_type": "error",
     "traceback": [
      "\u001b[1;31m---------------------------------------------------------------------------\u001b[0m",
      "\u001b[1;31mValueError\u001b[0m                                Traceback (most recent call last)",
      "\u001b[1;32m<ipython-input-17-b0b5f5b5ed11>\u001b[0m in \u001b[0;36m<module>\u001b[1;34m()\u001b[0m\n\u001b[1;32m----> 1\u001b[1;33m \u001b[0mcm\u001b[0m\u001b[1;33m=\u001b[0m\u001b[0mConfusionMatrix\u001b[0m\u001b[1;33m(\u001b[0m\u001b[0mactual_set_cm\u001b[0m\u001b[1;33m,\u001b[0m \u001b[0mpredicted_set_cm\u001b[0m\u001b[1;33m)\u001b[0m\u001b[1;33m\u001b[0m\u001b[0m\n\u001b[0m\u001b[0;32m      2\u001b[0m \u001b[0mprint\u001b[0m\u001b[1;33m(\u001b[0m\u001b[0mcm\u001b[0m\u001b[1;33m)\u001b[0m\u001b[1;33m\u001b[0m\u001b[0m\n\u001b[0;32m      3\u001b[0m \u001b[0mprint\u001b[0m\u001b[1;33m(\u001b[0m\u001b[0mcm\u001b[0m\u001b[1;33m.\u001b[0m\u001b[0mpretty_format\u001b[0m\u001b[1;33m(\u001b[0m\u001b[0msort_by_count\u001b[0m\u001b[1;33m=\u001b[0m\u001b[1;32mTrue\u001b[0m\u001b[1;33m,\u001b[0m \u001b[0mshow_percents\u001b[0m\u001b[1;33m=\u001b[0m\u001b[1;32mTrue\u001b[0m\u001b[1;33m,\u001b[0m\u001b[0mtruncate\u001b[0m\u001b[1;33m=\u001b[0m\u001b[1;36m9\u001b[0m\u001b[1;33m)\u001b[0m\u001b[1;33m)\u001b[0m\u001b[1;33m\u001b[0m\u001b[0m\n",
      "\u001b[1;32m~\\Anaconda3\\lib\\site-packages\\nltk\\metrics\\confusionmatrix.py\u001b[0m in \u001b[0;36m__init__\u001b[1;34m(self, reference, test, sort_by_count)\u001b[0m\n\u001b[0;32m     44\u001b[0m         \"\"\"\n\u001b[0;32m     45\u001b[0m         \u001b[1;32mif\u001b[0m \u001b[0mlen\u001b[0m\u001b[1;33m(\u001b[0m\u001b[0mreference\u001b[0m\u001b[1;33m)\u001b[0m \u001b[1;33m!=\u001b[0m \u001b[0mlen\u001b[0m\u001b[1;33m(\u001b[0m\u001b[0mtest\u001b[0m\u001b[1;33m)\u001b[0m\u001b[1;33m:\u001b[0m\u001b[1;33m\u001b[0m\u001b[0m\n\u001b[1;32m---> 46\u001b[1;33m             \u001b[1;32mraise\u001b[0m \u001b[0mValueError\u001b[0m\u001b[1;33m(\u001b[0m\u001b[1;34m'Lists must have the same length.'\u001b[0m\u001b[1;33m)\u001b[0m\u001b[1;33m\u001b[0m\u001b[0m\n\u001b[0m\u001b[0;32m     47\u001b[0m \u001b[1;33m\u001b[0m\u001b[0m\n\u001b[0;32m     48\u001b[0m         \u001b[1;31m# Get a list of all values.\u001b[0m\u001b[1;33m\u001b[0m\u001b[1;33m\u001b[0m\u001b[0m\n",
      "\u001b[1;31mValueError\u001b[0m: Lists must have the same length."
     ]
    }
   ],
   "source": [
    "cm=ConfusionMatrix(actual_set_cm, predicted_set_cm)\n",
    "print(cm)\n",
    "print(cm.pretty_format(sort_by_count=True, show_percents=True,truncate=9))\n"
   ]
  }
 ],
 "metadata": {
  "kernelspec": {
   "display_name": "Python 3",
   "language": "python",
   "name": "python3"
  },
  "language_info": {
   "codemirror_mode": {
    "name": "ipython",
    "version": 3
   },
   "file_extension": ".py",
   "mimetype": "text/x-python",
   "name": "python",
   "nbconvert_exporter": "python",
   "pygments_lexer": "ipython3",
   "version": "3.6.5"
  }
 },
 "nbformat": 4,
 "nbformat_minor": 2
}
